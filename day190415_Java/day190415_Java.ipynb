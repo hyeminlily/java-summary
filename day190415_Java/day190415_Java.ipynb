{
 "cells": [
  {
   "cell_type": "markdown",
   "metadata": {},
   "source": [
    "## \"플랫폼(운영체제) 독립적이다\"\n",
    "* C, C++은 플랫폼 의존적. linux 운영체제에서 컴파일 된 프로그램이 windows에서는 동작하지 않음. windows에 맞게 다시 컴파일 해줘야 함.\n",
    "* 그러나 java는 linux에서 컴파일 된 프로그램이 windows에서 다시 컴파일 할 필요 없이 동작함.\n",
    "→ **java virtual machine 위에서 가능함!**"
   ]
  },
  {
   "cell_type": "markdown",
   "metadata": {},
   "source": [
    "## 객체 지향 언어의 장점과 객체 지향 프로그램이 등장한 이유\n",
    "* **재사용성(상속 및 확장이 가능함)**\n",
    "* 산업이 발전하면서 공산품들은 이미 조립의 개념이 있었고, 소프트웨어 시장에도 조립의 개념이 필요해짐.\n",
    "* 소프트웨어 부품화의 필요성 대두 → **IS A 관계, HAS A 관계**\n",
    "* 객체 지향 이전에는 절차 지향, 기능(함수)이 중심이며 부품화가 어렵고 확장(상속)이 어려웠음.\n",
    "#### 은닉성 / 상속성 / 다형성의 특징을 가지게 됨.\n",
    "****\n",
    "1. 은닉성\n",
    "    * 접근명시자\n",
    "        * default - 같은 패키지의 클래스들에게 접근 허용\n",
    "        * private - 나만 접근 가능\n",
    "        * public - 아무 클래스나 접근 가능\n",
    "        * protected - 상속 받은 후손들 접근 가능\n",
    "2. 상속성 - 장점: 재사용성\n",
    "3. 다형성 - overriding\n",
    "****\n",
    "* C: 절차 지향 언어\n",
    "* C++: 객체 지향 언어"
   ]
  },
  {
   "cell_type": "markdown",
   "metadata": {},
   "source": [
    "## 기본 자료형과 참조 자료형\n",
    "1. primitive type: 기본 자료형\n",
    "    * byte\n",
    "    * boolean\n",
    "    * char\n",
    "    * short\n",
    "    * int\n",
    "    * long\n",
    "    * float\n",
    "    * double\n",
    "2. reference type: 참조 자료형 (배열, 객체 변수)\n",
    "       ex) Date today = new Date();\n",
    "           String a = new String(\"홍길동\");\n",
    "           String b = \"홍길동\";  // autoBoxing"
   ]
  },
  {
   "cell_type": "markdown",
   "metadata": {},
   "source": [
    "## 배열과 컬렉션의 차이점\n",
    "* 배열은 자료형이 같아야 하고 자료의 추가 및 삭제가 번거로움. → 배열의 단점을 보완하는 것이 **컬렉션(동적인 배열)**\n",
    "    * Set: 중복 허용하지 않음\n",
    "    * List: 중복 허용\n",
    "    * Map: key, value가 한쌍으로 이루어진 자료 구조\n",
    "        "
   ]
  },
  {
   "cell_type": "markdown",
   "metadata": {},
   "source": [
    "## 다형성(polymorphism)\n",
    "* 객체마다 받은 메세지(메소드 호출)는 동일하지만 동작하는 방식이 다름. → **overriding**\n",
    "    * ex)\n",
    "        circle.draw();\n",
    "        rect.draw();\n",
    "        line.draw();"
   ]
  },
  {
   "cell_type": "markdown",
   "metadata": {},
   "source": [
    "![텍스트](day190415_Java/ex01.png)"
   ]
  },
  {
   "cell_type": "markdown",
   "metadata": {},
   "source": [
    "## 멀티쓰레드의 장점과 단점\n",
    "* 장점: 만약 두 개의 객체에게 서로 메소드를 순차적으로 호출한다면, 첫번째 객체의 메소드가 종료된 후에 두번째 객체에게 메소드를 수행할 수 있는 기회가 올 것임. 하지만 첫번째 객체의 메소드 수행 중 문제가 발생되어 종료되면, 두번째 객체에게는 메소드 실행의 기회가 오지 않음.\n",
    "* 두 개의 객체에게 메소드 실행의 기회를 공평하게 주고자 한다면 **멀티쓰레드** 이용!\n",
    "* 두 개의 쓰레드가 공유 자원이 있을 때, 동시에 공유 자원에 접근하여 값을 수정하는 경우 **데이터 이상 현상** 발생 가능 → 동기화 필요!"
   ]
  },
  {
   "cell_type": "markdown",
   "metadata": {},
   "source": [
    "## 자바에서 멀티쓰레드 구현하는 방법\n",
    "1. Thread 클래스를 **상속**받아 run을 재정의함.\n",
    "    * 객체를 생성하여 start()를 호출하고 Thread 가동\n",
    "\n",
    "\n",
    "2. Runnable **인터페이스**를 구현하여 run을 재정의함.\n",
    "    * Thread 객체를 생성하여 start()를 호출하고 Thread 가동"
   ]
  },
  {
   "cell_type": "markdown",
   "metadata": {},
   "source": [
    "![텍스트](day190415_Java/ex02.png)\n",
    "****"
   ]
  },
  {
   "cell_type": "markdown",
   "metadata": {},
   "source": [
    "![텍스트](day190415_Java/ex03.png)\n",
    "****"
   ]
  },
  {
   "cell_type": "markdown",
   "metadata": {},
   "source": [
    "![텍스트](day190415_Java/ex04.png)"
   ]
  },
  {
   "cell_type": "markdown",
   "metadata": {},
   "source": [
    "## 제네릭스\n",
    "![텍스트](day190415_Java/ex05.png)"
   ]
  },
  {
   "cell_type": "markdown",
   "metadata": {},
   "source": [
    "## 접근제어자 (modifier)\n",
    "1. **default(friendly)**: 같은 패키지의 클래스에 접근 가능\n",
    "2. **private**: 나(=클래스 자신)만 접근 가능\n",
    "3. **public**: 아무 클래스나 접근 가능\n",
    "4. **protected**: 상속 받은 클래스는 접근 가능"
   ]
  },
  {
   "cell_type": "markdown",
   "metadata": {},
   "source": [
    "## Wrapper 클래스\n",
    ": 기본 자료형을 객체로 포장해주는 클래스들\n",
    "* byte - Byte\n",
    "* boolean - Boolean\n",
    "* char - Character\n",
    "* short - Short\n",
    "* int - Integer\n",
    "* long - Long\n",
    "* float - Float\n",
    "* double - Double"
   ]
  },
  {
   "cell_type": "markdown",
   "metadata": {},
   "source": [
    "## 추상클래스\n",
    ": 미래에 만들어질 후손 클래스들이 가져야 할 공통적인 속성과 동작을 뽑아 부모 클래스를 만드는 것을 **일반화**한다고 함.<br>\n",
    "  이때 후손들이 반드시 가져야 할 메소드이지만 일반화하는 시점에서 구체화 할 수 없어 메소드 선언문만 정의하는 메소드를 **추상 메소드**라고 함.<br>\n",
    "  이와 같이 어떤 클래스가 추상 클래스를 하나라도 갖는다면 그 클래스 자신이 추상 클래스가 되어야 함."
   ]
  }
 ],
 "metadata": {
  "kernelspec": {
   "display_name": "Python 3",
   "language": "python",
   "name": "python3"
  },
  "language_info": {
   "codemirror_mode": {
    "name": "ipython",
    "version": 3
   },
   "file_extension": ".py",
   "mimetype": "text/x-python",
   "name": "python",
   "nbconvert_exporter": "python",
   "pygments_lexer": "ipython3",
   "version": "3.7.1"
  }
 },
 "nbformat": 4,
 "nbformat_minor": 2
}
