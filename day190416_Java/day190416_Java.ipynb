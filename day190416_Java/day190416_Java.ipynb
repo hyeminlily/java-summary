{
 "cells": [
  {
   "cell_type": "markdown",
   "metadata": {},
   "source": [
    "## 인터페이스란 무엇인가?\n",
    "* 자바는 클래스의 다중 상속을 금지하고 있음. 다중 상속의 효과를 기대하기 위해서는 인터페이스를 이용해야 함.\n",
    "* 인터페이스는 **완전 추상**의 개념이며 상수와 메소드 선언 만으로 구성되어 있음.\n",
    "* 인터페이스에서 변수를 선언하면 따로 final이라고 하지 않아도 상수로 취급하며, 메소드 선언부에 abstract라고 하지 않아도 abstract으로 취급함.\n",
    "* 만약 어떠한 클래스가 인터페이스를 구현해야 한다면 **implements** 키워드를 사용하며, **반드시 인터페이스 내의 모든 메소드를 재정의해야 함.**\n",
    "\n",
    "    ex) javax.swing - JFrame을 상속(extends)받아 이용하려는데 이벤트도 생성하고 싶다면, implements(다중 상속)로 해야 함."
   ]
  },
  {
   "cell_type": "markdown",
   "metadata": {},
   "source": [
    "![텍스트](ex01.png)"
   ]
  },
  {
   "cell_type": "markdown",
   "metadata": {},
   "source": [
    "## awt와 swing은 어떻게 다른가요?\n",
    "* awt와 swing은 모두 자바의 GUI를 위한 패키지.\n",
    "* awt는 자바 초기부터 있던 패키지이며 플랫폼마다 서로 다른 모양이기 때문에 jdk 1.4 이후부터 발표된 것이 swing.\n",
    "* 플랫폼마다 동일한 UI를 제공하며 awt보다 미려하다는 특징을 가짐."
   ]
  },
  {
   "cell_type": "markdown",
   "metadata": {},
   "source": [
    "![텍스트](ex02.png)"
   ]
  },
  {
   "cell_type": "markdown",
   "metadata": {},
   "source": [
    "## Garbage Collector\n",
    "* **더이상 참조되지 않는 메모리를 자동으로 수집하여 처리해주는 것.**\n",
    "* C, C++에서는 동적으로 메모리를 확보한 경우, 더이상 필요하지 않다면 사용자가 직접 메모리를 제거해야 했음. (메모리 부족 현상 발생 빈번)\n",
    "* 자바에서는 사용자가 일일이 제거하지 않아도, 더이상 참조되지 않는 메모리가 있다면 알아서 Garbage를 수집하여 제거하는 기술이 있음."
   ]
  },
  {
   "cell_type": "markdown",
   "metadata": {},
   "source": [
    "## ArrayList\n",
    "* List의 후손이며 어떠한 자료형이라도 담을 수 있음.\n",
    "* 크기가 가변적이므로 자료의 추가 및 삭제가 용이함.\n",
    "* 데이터 중간에 추가 및 삭제가 빈번할 시) ArrayList < <U>LinkedList</U>"
   ]
  },
  {
   "cell_type": "markdown",
   "metadata": {},
   "source": [
    "## Overloading & Overriding\n",
    "* **Overloading**: 같은 이름의 메소드를 중복 정의하는 것. 단 <U>매개 변수의 종류(자료형)나 개수</U>가 달라야 함. (생성자도 엄밀히 특수한 메소드에 해당하므로 중복이 가능)\n",
    "* **Overriding**: 부모로부터 물려받은 메소드가 자식 클래스에서 다시 정의해야 할 필요가 있다면 이를 재정의할 수 있음.\n",
    "\n",
    "\n",
    "* <U>일반화</U>: 미래에 만들어질 후손 클래스들이 가져야 할 공통적인 속성과 동작을 뽑아서 미리 부모 클래스를 만드는 것."
   ]
  },
  {
   "cell_type": "markdown",
   "metadata": {},
   "source": [
    "## Exception\n",
    "* 프로그램 수행 중 사용자의 부주의 등으로 발생할 수 있는 예기치 않는 상황을 뜻함. <br/>\n",
    "    ex) 배열의 범위를 넘는 인덱스에 접근, 숫자 입력해야 하는 상황에 문자를 입력하는 상황 등\n",
    "* 자바는 이러한 예기치 않은 상황에 대해 **클래스화** 되어 있으며, 예외가 발생한다는 것은 예외 클래스형의 객체가 생성된다는 것.\n",
    "* RuntimeException을 기준으로 발생하는 예외가 RuntimeException의 후손이라면 사용자가 직접 처리하지 않아도 되지만, <br/>\n",
    "    **그 이외는 반드시 예외 처리를 해야 함.**<br/>\n",
    "\n",
    "\n",
    "* 내가 만든 메소드 안에서 발생하는 예외를 처리하는 방법\n",
    "    * try ~ catch로 직접 처리\n",
    "        * 하나의 try에는 여러 개의 catch 절이 올 수 있음. 단, 범위가 작은 순서대로 와야 함.\n",
    "        * 예외 발생(=문제 발생)시에는 해당 catch절을 수행하고 프로그램을 멈춤.\n",
    "        * <U>만약</U>, 예외가 발생하건 하지않건 반드시 마무리 해야 할 사항이 있다면 **finally**에 기술.<br/>\n",
    "            ex) 데이터베이스나 파일의 자원을 close하는 동작<br/><br/>\n",
    "    * throws 키워드로 메소드를 호출하는 쪽에 예외를 전달하는 방법<br/><br/>\n",
    "    * **사용자 정의 예외**: 특정 업무 처리를 위한 예외를 직접 만들 수 있음.\n",
    "        * 일반적인 if 컨디션으로 메세지를 처리할 수 있지만 문제 상황을 **명세**하고 싶다면 <U>사용자 정의 예외</U>를 만들 수 있음.\n",
    "        * 강제로 예외를 발생시킬 때 사용하는 키워드가 **throws.**"
   ]
  },
  {
   "cell_type": "markdown",
   "metadata": {},
   "source": [
    "![텍스트](ex03.png)"
   ]
  },
  {
   "cell_type": "markdown",
   "metadata": {},
   "source": [
    "![텍스트](ex04.png)"
   ]
  }
 ],
 "metadata": {
  "kernelspec": {
   "display_name": "Python 3",
   "language": "python",
   "name": "python3"
  },
  "language_info": {
   "codemirror_mode": {
    "name": "ipython",
    "version": 3
   },
   "file_extension": ".py",
   "mimetype": "text/x-python",
   "name": "python",
   "nbconvert_exporter": "python",
   "pygments_lexer": "ipython3",
   "version": "3.7.1"
  }
 },
 "nbformat": 4,
 "nbformat_minor": 2
}
