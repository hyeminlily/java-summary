{
 "cells": [
  {
   "cell_type": "markdown",
   "metadata": {},
   "source": [
    "## Request & Response\n",
    "* request와 response 모두 JSP 내장 객체. 별도의 객체 생성 없이도 사용 가능.\n",
    "    * request : 사용자의 요청 정보를 담고 있는 객체\n",
    "    * response : 응답을 위한 객체"
   ]
  },
  {
   "cell_type": "markdown",
   "metadata": {},
   "source": [
    "![텍스트](ex01.png)"
   ]
  },
  {
   "cell_type": "markdown",
   "metadata": {},
   "source": [
    "## Client에서 Data 넘기는 방법\n",
    "* Post 방식\n",
    "    * form 태그에 값을 입력하여 전달하는 방식\n",
    "\n",
    "* Get 방식\n",
    "    * queryString을 전달하는 방식 ex) http://someURL?변수명1=값1&변수명2=값2"
   ]
  },
  {
   "cell_type": "markdown",
   "metadata": {},
   "source": [
    "## JSP Action tag\n",
    "* <jsp:useBean > : 자바 객체를 생성할 때\n",
    "* <jsp:setProperty > : 속성에 값을 설정할 때\n",
    "* <jsp:getProperty > : 속성의 값을 읽어올 때"
   ]
  },
  {
   "cell_type": "markdown",
   "metadata": {},
   "source": [
    "![텍스트](ex02.png)"
   ]
  },
  {
   "cell_type": "markdown",
   "metadata": {},
   "source": [
    "## Servlet의 LifeCycle과 관련 Method\n",
    "* init() : Servlet이 가동될 때 한번만 수행. 환경설정과 관련된 초기화에 대한 내용을 기술.\n",
    "* service() : 요청이 있을 때마다 수행. 실제 Servlet이 해야 할 내용을 기술.\n",
    "* destroy() : Servlet이 종료될 때, 즉 서비스가 종료될 때 수행. 사용한 자원을 해제할 내용을 기술."
   ]
  },
  {
   "cell_type": "markdown",
   "metadata": {},
   "source": [
    "## Cookie & Session\n",
    "* http 프로토콜 = 무상태 서비스. 언제라도 네트워크에 연결된 상태가 아니고 사용자의 요청에 의한 응답을 하고 연결이 끊기는 방식.\n",
    "* Cookie와 Session은 사용자의 상태유지 기법.\n",
    "\n",
    "\n",
    "* Cookie : 사용자의 정보를 사용자 컴퓨터의 <U>하드디스크</U>에 기록하는 방식.\n",
    "    * 사용자가 임의로 삭제할 수 있음. 중요한 정보를 기록하기에는 부적합. 문자열(String)만 저장하도록 제한되어 있음.\n",
    "* Session : 사용자의 정보를 <U>서버</U>에 기록하는 방식.\n",
    "    * JSP에서 더 많이 사용되기 때문에 JSP 내장 객체로 제공됨. 어떤 타입(String, List 등)이라도 가능함."
   ]
  },
  {
   "cell_type": "markdown",
   "metadata": {},
   "source": [
    "![텍스트](ex03.png)"
   ]
  },
  {
   "cell_type": "markdown",
   "metadata": {},
   "source": [
    "## \"hello\"를 출력하는 Servlet 작성\n",
    "![텍스트](ex04.png)"
   ]
  },
  {
   "cell_type": "markdown",
   "metadata": {},
   "source": [
    "## XML\n",
    "* Extensable Markup Language.\n",
    "* html : <U>자료(데이터)의 모양을 결정</U>하는 것에 태그가 작용.\n",
    "    * <h2 >홍길동</h2 > : \"홍길동\"이라는 문자열을 HeadLine으로 크게 표시하라는 의미.\n",
    "    \n",
    "    \n",
    "* XML : <U>자료(데이터)의 내용</U>을 설명.\n",
    "    * <name>홍길동</name > : \"홍길동\"이라는 데이터를 감싸고 있는 태그. name은 \"홍길동\"이라는 자료가 무엇인지를 설명함.\n",
    "        * 서로 떨어져 있는 원격지의 자료 전송을 위하여, 또는 시스템의 환경설정을 위해 XML을 사용함."
   ]
  },
  {
   "cell_type": "markdown",
   "metadata": {},
   "source": [
    "## Web에서의 한글 처리\n",
    "* Get 방식에서의 한글 처리 : server.xml에서 URIEncoding=\"UTF-8\" 추가\n",
    "* Post 방식에서의 한글 처리 : 각각의 JSP 혹은 Servlet의 첫 줄에 request.setCharacterEncoding(\"UTF-8\") 추가"
   ]
  },
  {
   "cell_type": "markdown",
   "metadata": {},
   "source": [
    "## Mybatis\n",
    "* 대부분의 사용자의 요청에 대한 처리는 데이터베이스 연결이 일반적임.\n",
    "* 데이터베이스의 내용을 자바 객체로 하나씩 변환하는 작업은 반복적이고 번거로움.\n",
    "* Mybatis는 데이터베이스에 접근하기 위한 반복적인 코드 및 테이블(개체)을 자바 객체로 **자동 매핑**해주는 도구."
   ]
  },
  {
   "cell_type": "markdown",
   "metadata": {},
   "source": [
    "## Ajax\n",
    "* 현재의 Web은 사용자의 요청에 따라 문서 전체를 변환시키지 않고 일부분만 변경하는 서비스가 많음.\n",
    "* Ajax는 문서 전체를 서버로부터 읽어오지 않고 필요한 데이터만 서버로부터 받아오는 기술임.\n",
    "    * 서버의 응답방식은 html이 아닌 데이터만 **json, csv, xml 등**으로 응답함. 이 데이터를 html 태그를 동적 생성하여 원하는 위치에 표현할 수 있음."
   ]
  },
  {
   "cell_type": "markdown",
   "metadata": {},
   "source": [
    "## jQuery\n",
    "* Ajax 통신 및 동적 html 생성을 쉽게 해주며 시각적인 효과 또한 쉽게 할 수 있는 JavaScript 라이브러리."
   ]
  },
  {
   "cell_type": "markdown",
   "metadata": {},
   "source": [
    "## DOM\n",
    "* Document Object Model. html을 구성하고 있는 모든 태그(요소, 노드)들을 JavaScript는 각각 객체로 표현함.\n",
    "    * html의 자식은 head와 body. head의 자식은 title. body의 자식은 h2, ul. ul의 자식은 li. h2와 ul은 형제 지간.\n",
    "    * Ajax 통신을 수행하여 서버로부터 응답한 데이터를 갖고 원하는 위치를 찾고 또 동적인 노드를 생성하기 위해 DOM 객체 모델을 이용함."
   ]
  }
 ],
 "metadata": {
  "kernelspec": {
   "display_name": "Python 3",
   "language": "python",
   "name": "python3"
  },
  "language_info": {
   "codemirror_mode": {
    "name": "ipython",
    "version": 3
   },
   "file_extension": ".py",
   "mimetype": "text/x-python",
   "name": "python",
   "nbconvert_exporter": "python",
   "pygments_lexer": "ipython3",
   "version": "3.7.1"
  }
 },
 "nbformat": 4,
 "nbformat_minor": 2
}
