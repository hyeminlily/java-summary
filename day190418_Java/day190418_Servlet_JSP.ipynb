{
 "cells": [
  {
   "cell_type": "markdown",
   "metadata": {},
   "source": [
    "## Servlet\n",
    "* 자바 언어를 이용하여 웹페이지를 구현하기 위한 기술.\n",
    "* Servlet 클래스를 확장하고 doGet, doPost를 재정의하여 표현하고자 하는 내용을 기술함."
   ]
  },
  {
   "cell_type": "markdown",
   "metadata": {},
   "source": [
    "## Servlet vs JSP\n",
    "* Servlet : 클래스를 확장하여 새로운 클래스를 만든 후 컴파일하고 웹페이지에 배포해야 함.\n",
    "* JSP : Servlet 보다 쉽게, 따로 클래스를 만들지 않고 HTML과 같은 방법으로 만들 수 있음.\n",
    "    * JSP만으로 서비스를 하는 데에 한계가 있기 때문에 MVC 패턴을 적용하기 위해 Servlet이 중요해짐!\n",
    "\n",
    "\n",
    "* 사용자의 요청에 대한 처리를 하는 Controller의 역할을 일반적으로 **Servlet**이 담당, 데이터 처리 등은 별도의 **클래스 모델**이 담당, **JSP**는 처리된 모든 결과를 표현하기 위한 역할만 수행.\n",
    "* JSP를 요청하면 내부적으로 Servlet 클래스를 위한 .java가 생성되고 컴파일되어 서비스됨."
   ]
  },
  {
   "cell_type": "markdown",
   "metadata": {},
   "source": [
    "## MVC\n",
    "* Model : 일처리 담당, 즉 <U>자바 클래스</U>들.\n",
    "* View : 보여주기 담당, <U>JSP</U>.\n",
    "* Controller : 요청 담당, <U>Servlet</U>.\n",
    "    * DispatcherServlet : Spring이 제공하는 Controller.\n",
    "    * FrontController : ex) BitController (직접 만드는)"
   ]
  },
  {
   "cell_type": "markdown",
   "metadata": {},
   "source": [
    "## JSP 구성요소\n",
    "* Scriptlets : 스크립트릿. 온갖 자바 문법 표현이 가능함.\n",
    "    * ex) <% int a = 3; ... %>\n",
    "    \n",
    "\n",
    "* Declare : 선언문. 변수나 메소드를 선언함.\n",
    "    * ex) int a = 3; public void pro(){} / for문, if문 등은 기술이 불가능! 선언한 내용은 Servlet 클래스의 **멤버**가 됨.\n",
    "\n",
    "\n",
    "* Expression : 표현식. 브라우저에 출력할 수 있음.\n",
    "    * ex) <%= 변수 %>\n",
    "    \n",
    "\n",
    "* Expression Language : 표현언어.\n",
    "    * ex) ${변수}\n",
    "    \n",
    "\n",
    "* Directive : 지시자. JSP를 실행하기 전에 처리해야 할 내용을 기술함.\n",
    "    * Page : 사용할 언어나 import할 클래스를 명시함.\n",
    "    * Include : 이미 있는 JSP를 포함시킴.\n",
    "    * Taglib : 자바 문법을 대신할 taglib를 포함시킴. ex) jstl\n",
    "\n",
    "\n",
    "* Action tag : 액션태그. 자바 문법을 대신하는 태그\n",
    "    * ex) <jsp:useBean id=\"p\" class=\"Person\"> : **객체 생성** / Person p = new Person()을 대신함.\n",
    "    * <jsp:setProperty name=\"p\" property=\"name\" value=\"홍길동\"> : **객체의 속성에 값을 설정** / p.setName(\"홍길동\")을 대신함.\n",
    "    * <jsp:getProperty name=\"p\" property=\"name\"> : **객체의 속성값을 읽어옴** / p.getName()을 대신함.\n",
    "    * <jsp:forward > : 다른 문서로 이동시키기 위해 사용.\n",
    "    * <jsp:include > : 이미 있는 문서를 현재 문서에 포함시킴.\n",
    "    * <jsp:param > : <jsp:forward >나 <jsp:include >의 자식 노드로 사용되며 이동되는 문서나 포함되는 문서에게 전달할 값이 있는 경우에 사용함."
   ]
  }
 ],
 "metadata": {
  "kernelspec": {
   "display_name": "Python 3",
   "language": "python",
   "name": "python3"
  },
  "language_info": {
   "codemirror_mode": {
    "name": "ipython",
    "version": 3
   },
   "file_extension": ".py",
   "mimetype": "text/x-python",
   "name": "python",
   "nbconvert_exporter": "python",
   "pygments_lexer": "ipython3",
   "version": "3.7.1"
  }
 },
 "nbformat": 4,
 "nbformat_minor": 2
}
