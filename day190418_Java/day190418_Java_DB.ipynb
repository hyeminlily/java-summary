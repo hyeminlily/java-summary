{
 "cells": [
  {
   "cell_type": "markdown",
   "metadata": {},
   "source": [
    "## 동기화(Synchronized)\n",
    "* 두 개 이상의 객체가 동시에 어떠한 작업을 수행하게 하려면 **Thread**를 이용함.\n",
    "* 만약 두 개 이상의 Thread가 공유 자원에 동시에 접근할 수 없도록 하려면 <U>임계 영역</U>을 설정함.\n",
    "* 즉, 한번에 하나의 Thread만 접근을 허용하는 것을 **\"동기화한다\"** 고 하고 <U>메소드명 앞</U>에 혹은 <U>특정 block</U>에 synchronized 키워드를 사용함.\n",
    "\n",
    "    ex) synchronized public void pro(){}"
   ]
  },
  {
   "cell_type": "markdown",
   "metadata": {},
   "source": [
    "## 프로세스와 쓰레드\n",
    "* (멀티)프로세스 : 마치 윈도우에서 한번에 여러 개의 프로그램을 실행하는 것과 같음.\n",
    "    * ex) 메모장 실행된 상태에서 그림판 프로그램도 실행하는 것.\n",
    "    \n",
    "    \n",
    "* (멀티)쓰레드 : 실행 중에 있는 프로그램 자체를 뜻함. 특정 프로그램 안에 있는 일처리를 위한 기능을 말함.\n",
    "    * ex) 한글 프로그램에서 실행 중인 한글 프로그램 자체를 프로세스라고 하고, 만약 [출력]을 내보냈다면 그 출력을 처리하는 기능을 쓰레드라고 함.\n",
    "    * 출력을 진행하면서 동시에 문서 작성을 할 수도 있음. 키보드로 입력한 내용을 화면에 표시할 수도 있음. → <U>멀티 쓰레드</U>"
   ]
  },
  {
   "cell_type": "markdown",
   "metadata": {},
   "source": [
    "***"
   ]
  },
  {
   "cell_type": "markdown",
   "metadata": {},
   "source": [
    "## 데이터베이스의 종류\n",
    "* 관계형 데이터베이스\n",
    "    * 자료를 행, 열, 테이블(개체)로 표현함.\n",
    "    * 테이블(개체)끼리 관계가 있음. 즉, 두 개체 사이에 공통적인 속성이 있음.\n",
    "    * 기업의 정보를 하나의 개체에 표현하지 않는 것은 <U>데이터의 이상 현상(삽입 이상, 갱신 이상, 삭제 이상)</U>을 해결하기 위해 **정규화 과정**을 거치기 때문.\n",
    "    * 정규화 과정을 거치게 되면 개체가 공통적인 속성을 갖고 두 개로 분리됨.\n",
    "    * 사용자의 요구에 따른 두 개 이상의 테이블로부터 자료를 뽑아오기 위해 **join식**을 사용함.\n",
    "    * 종류 : Oracle, MySql, MsSql 등\n",
    "    \n",
    "\n",
    "* NoSql\n",
    "    * 데이터의 크기, 생성 속도, 종류 등이 다양해져서 관계형 데이터베이스만으로 이것을 처리하기가 어려움.\n",
    "    * 종류 : MongoDB(문서 기반의 NoSql)"
   ]
  },
  {
   "cell_type": "markdown",
   "metadata": {},
   "source": [
    "## 데이터베이스 명령어의 종류\n",
    "* DCL : Data Control Language (데이터 제어어) / 권한 부여, 권한 제거\n",
    "* DDL : Data Definition Language (데이터 정의어) / 테이블 생성, 뷰 생성, 테이블 구조 변경, 인덱스 생성, 시퀀스 생성 등\n",
    "* DML : Data Manipulation Language (데이터 조작어) / 자료의 추가, 수정, 삭제, 검색"
   ]
  },
  {
   "cell_type": "markdown",
   "metadata": {},
   "source": [
    "## 제약 사항(Constraint)\n",
    "* not null : null 허용하지 않음\n",
    "* null : null 허용\n",
    "* unique : 유일해야 함\n",
    "* primary key : not null + unique (null을 허용할 수 없으며 유일해야 함)\n",
    "    * 다른 레코드(튜플)와 구별하기 위해 사용(<U>개체 무결성</U>), 모든 튜플은 primary key에 의해 구별 가능해야 함!\n",
    "* foreign key : 반드시 부모 개체의 primary key에 나타난 값이어야 함\n",
    "    * 두 개의 개체를 관계 맺어주기 위해 사용, 자식 개체의 foreign key = 부모 개체의 primary key (<U>참조 무결성</U>)\n",
    "* check : 조건을 만족함 ex. check(age >= 20)\n",
    "* default : 생략하면 기본값 설정"
   ]
  },
  {
   "cell_type": "markdown",
   "metadata": {},
   "source": [
    "## 인덱스(Index)\n",
    "* 검색이나 join에 많이 사용될 것으로 생각되는 속성에 index를 만들어두면 성능을 향상시킬 수 있음.\n",
    "* <U>BUT</U>) 수정이나 삭제가 빈번한 경우는 오히려 성능을 저하시키는 요인이 됨."
   ]
  },
  {
   "cell_type": "markdown",
   "metadata": {},
   "source": [
    "## Commit, Rollback, Transaction\n",
    "* Transaction : 하나의 일처리를 위한 sql 덩어리, 두 개 이상의 sql 명령어가 모여 하나의 일처리를 하는 경우\n",
    "* Commit : Transaction을 승인하는 명령\n",
    "* Rollback : Transaction을 취소하는 명령\n",
    "\n",
    "\n",
    "* ex) A 계좌에서 B 계좌로 1000원을 이체하는 일처리가 있다면 먼저 A 계좌에서 1000원이 감소되는 update문이 있어야 할 것이고 그 다음, B 계좌에 1000원 증가하는 update문이 있을 것임.\n",
    "* 만약 하나의 update문만 성공했다면, 다른 update문은 취소해야 함. → Rollback"
   ]
  },
  {
   "cell_type": "markdown",
   "metadata": {},
   "source": [
    "## CRUD\n",
    "* 데이터를 조작하는 명령어(DML)\n",
    "    * Create : 자료를 추가하는 명령어 (insert into ~)\n",
    "    * Read : 자료를 검색하는 명령어 (select ~)\n",
    "    * Update : 자료를 수정하는 명령어 (update ~)\n",
    "    * Delete : 자료를 삭제하는 명령어 (delete ~)"
   ]
  },
  {
   "cell_type": "markdown",
   "metadata": {},
   "source": [
    "## Cursor\n",
    "* 자료를 검색한 결과는 ResultSet을 반환함.\n",
    "* 레코드를 하나씩 뽑아오면서 일처리를 해야할 경우, 현재 작업이 이루어지는 레코드를 바라보는 개념.\n",
    "    * while(rs.next()) : 메소드에 의해 Cursor를 다음 행으로 옮길 수 있음. 더이상 이동할 행이 없다면 false를 반환함."
   ]
  }
 ],
 "metadata": {
  "kernelspec": {
   "display_name": "Python 3",
   "language": "python",
   "name": "python3"
  },
  "language_info": {
   "codemirror_mode": {
    "name": "ipython",
    "version": 3
   },
   "file_extension": ".py",
   "mimetype": "text/x-python",
   "name": "python",
   "nbconvert_exporter": "python",
   "pygments_lexer": "ipython3",
   "version": "3.7.1"
  }
 },
 "nbformat": 4,
 "nbformat_minor": 2
}
